{
 "cells": [
  {
   "cell_type": "markdown",
   "metadata": {},
   "source": [
    "### Import Libraries"
   ]
  },
  {
   "cell_type": "code",
   "execution_count": 52,
   "metadata": {
    "id": "kJjTloOrULiL"
   },
   "outputs": [],
   "source": [
    "import numpy as np\n",
    "import pandas as pd\n",
    "import matplotlib.pyplot as plt\n",
    "import seaborn as sns\n",
    "\n",
    "import warnings\n",
    "warnings.filterwarnings('ignore')\n",
    "plt.rcParams['figure.figsize']=[15,8]"
   ]
  },
  {
   "cell_type": "code",
   "execution_count": 53,
   "metadata": {
    "id": "rW9f5we-Zmku"
   },
   "outputs": [],
   "source": [
    "from sklearn.linear_model import LogisticRegression\n",
    "from sklearn.tree import DecisionTreeClassifier\n",
    "from sklearn.ensemble import RandomForestClassifier,BaggingClassifier, AdaBoostClassifier, GradientBoostingClassifier,StackingClassifier,VotingClassifier\n",
    "from sklearn.naive_bayes import GaussianNB\n",
    "from sklearn.neighbors import KNeighborsClassifier\n",
    "from sklearn.model_selection import train_test_split,GridSearchCV,KFold,cross_val_score\n",
    "from sklearn.preprocessing import StandardScaler,MinMaxScaler\n",
    "from tensorflow.keras import models, datasets, layers, optimizers\n",
    "from sklearn.svm import SVC\n",
    "from xgboost import XGBClassifier\n",
    "from sklearn.metrics import accuracy_score,classification_report,confusion_matrix,roc_auc_score,roc_curve, precision_score, recall_score, f1_score, cohen_kappa_score, mean_squared_error"
   ]
  },
  {
   "cell_type": "code",
   "execution_count": 54,
   "metadata": {
    "colab": {
     "base_uri": "https://localhost:8080/",
     "height": 273
    },
    "id": "P7BMR-LRU2m5",
    "outputId": "bd6f6396-3f58-4cb0-8f69-4b259b55664d"
   },
   "outputs": [
    {
     "data": {
      "text/html": [
       "<div>\n",
       "<style scoped>\n",
       "    .dataframe tbody tr th:only-of-type {\n",
       "        vertical-align: middle;\n",
       "    }\n",
       "\n",
       "    .dataframe tbody tr th {\n",
       "        vertical-align: top;\n",
       "    }\n",
       "\n",
       "    .dataframe thead th {\n",
       "        text-align: right;\n",
       "    }\n",
       "</style>\n",
       "<table border=\"1\" class=\"dataframe\">\n",
       "  <thead>\n",
       "    <tr style=\"text-align: right;\">\n",
       "      <th></th>\n",
       "      <th>Unnamed: 0</th>\n",
       "      <th>CustomerID</th>\n",
       "      <th>Churn</th>\n",
       "      <th>MonthlyRevenue</th>\n",
       "      <th>MonthlyMinutes</th>\n",
       "      <th>TotalRecurringCharge</th>\n",
       "      <th>DirectorAssistedCalls</th>\n",
       "      <th>OverageMinutes</th>\n",
       "      <th>RoamingCalls</th>\n",
       "      <th>PercChangeMinutes</th>\n",
       "      <th>...</th>\n",
       "      <th>NotNewCellphoneUser</th>\n",
       "      <th>ReferralsMadeBySubscriber</th>\n",
       "      <th>IncomeGroup</th>\n",
       "      <th>OwnsMotorcycle</th>\n",
       "      <th>AdjustmentsToCreditRating</th>\n",
       "      <th>MadeCallToRetentionTeam</th>\n",
       "      <th>CreditRating</th>\n",
       "      <th>PrizmCode</th>\n",
       "      <th>Occupation</th>\n",
       "      <th>MaritalStatus</th>\n",
       "    </tr>\n",
       "  </thead>\n",
       "  <tbody>\n",
       "    <tr>\n",
       "      <th>0</th>\n",
       "      <td>0</td>\n",
       "      <td>3000002</td>\n",
       "      <td>1</td>\n",
       "      <td>24.00</td>\n",
       "      <td>219.0</td>\n",
       "      <td>22.0</td>\n",
       "      <td>0.25</td>\n",
       "      <td>0.0</td>\n",
       "      <td>0.0</td>\n",
       "      <td>-157.0</td>\n",
       "      <td>...</td>\n",
       "      <td>No</td>\n",
       "      <td>0</td>\n",
       "      <td>4</td>\n",
       "      <td>No</td>\n",
       "      <td>0</td>\n",
       "      <td>Yes</td>\n",
       "      <td>1-Highest</td>\n",
       "      <td>Suburban</td>\n",
       "      <td>Professional</td>\n",
       "      <td>No</td>\n",
       "    </tr>\n",
       "    <tr>\n",
       "      <th>1</th>\n",
       "      <td>1</td>\n",
       "      <td>3000010</td>\n",
       "      <td>1</td>\n",
       "      <td>16.99</td>\n",
       "      <td>10.0</td>\n",
       "      <td>17.0</td>\n",
       "      <td>0.00</td>\n",
       "      <td>0.0</td>\n",
       "      <td>0.0</td>\n",
       "      <td>-4.0</td>\n",
       "      <td>...</td>\n",
       "      <td>No</td>\n",
       "      <td>0</td>\n",
       "      <td>5</td>\n",
       "      <td>No</td>\n",
       "      <td>0</td>\n",
       "      <td>No</td>\n",
       "      <td>4-Medium</td>\n",
       "      <td>Suburban</td>\n",
       "      <td>Professional</td>\n",
       "      <td>Yes</td>\n",
       "    </tr>\n",
       "    <tr>\n",
       "      <th>2</th>\n",
       "      <td>2</td>\n",
       "      <td>3000014</td>\n",
       "      <td>0</td>\n",
       "      <td>38.00</td>\n",
       "      <td>8.0</td>\n",
       "      <td>38.0</td>\n",
       "      <td>0.00</td>\n",
       "      <td>0.0</td>\n",
       "      <td>0.0</td>\n",
       "      <td>-2.0</td>\n",
       "      <td>...</td>\n",
       "      <td>No</td>\n",
       "      <td>0</td>\n",
       "      <td>6</td>\n",
       "      <td>No</td>\n",
       "      <td>0</td>\n",
       "      <td>No</td>\n",
       "      <td>3-Good</td>\n",
       "      <td>Town</td>\n",
       "      <td>Crafts</td>\n",
       "      <td>Yes</td>\n",
       "    </tr>\n",
       "    <tr>\n",
       "      <th>3</th>\n",
       "      <td>3</td>\n",
       "      <td>3000022</td>\n",
       "      <td>0</td>\n",
       "      <td>82.28</td>\n",
       "      <td>1312.0</td>\n",
       "      <td>75.0</td>\n",
       "      <td>1.24</td>\n",
       "      <td>0.0</td>\n",
       "      <td>0.0</td>\n",
       "      <td>157.0</td>\n",
       "      <td>...</td>\n",
       "      <td>No</td>\n",
       "      <td>0</td>\n",
       "      <td>6</td>\n",
       "      <td>No</td>\n",
       "      <td>0</td>\n",
       "      <td>No</td>\n",
       "      <td>4-Medium</td>\n",
       "      <td>Other</td>\n",
       "      <td>Other</td>\n",
       "      <td>No</td>\n",
       "    </tr>\n",
       "    <tr>\n",
       "      <th>4</th>\n",
       "      <td>4</td>\n",
       "      <td>3000026</td>\n",
       "      <td>1</td>\n",
       "      <td>17.14</td>\n",
       "      <td>0.0</td>\n",
       "      <td>17.0</td>\n",
       "      <td>0.00</td>\n",
       "      <td>0.0</td>\n",
       "      <td>0.0</td>\n",
       "      <td>0.0</td>\n",
       "      <td>...</td>\n",
       "      <td>Yes</td>\n",
       "      <td>0</td>\n",
       "      <td>9</td>\n",
       "      <td>No</td>\n",
       "      <td>1</td>\n",
       "      <td>No</td>\n",
       "      <td>1-Highest</td>\n",
       "      <td>Other</td>\n",
       "      <td>Professional</td>\n",
       "      <td>Yes</td>\n",
       "    </tr>\n",
       "  </tbody>\n",
       "</table>\n",
       "<p>5 rows × 58 columns</p>\n",
       "</div>"
      ],
      "text/plain": [
       "   Unnamed: 0  CustomerID  Churn  MonthlyRevenue  MonthlyMinutes  \\\n",
       "0           0     3000002      1           24.00           219.0   \n",
       "1           1     3000010      1           16.99            10.0   \n",
       "2           2     3000014      0           38.00             8.0   \n",
       "3           3     3000022      0           82.28          1312.0   \n",
       "4           4     3000026      1           17.14             0.0   \n",
       "\n",
       "   TotalRecurringCharge  DirectorAssistedCalls  OverageMinutes  RoamingCalls  \\\n",
       "0                  22.0                   0.25             0.0           0.0   \n",
       "1                  17.0                   0.00             0.0           0.0   \n",
       "2                  38.0                   0.00             0.0           0.0   \n",
       "3                  75.0                   1.24             0.0           0.0   \n",
       "4                  17.0                   0.00             0.0           0.0   \n",
       "\n",
       "   PercChangeMinutes  ...  NotNewCellphoneUser  ReferralsMadeBySubscriber  \\\n",
       "0             -157.0  ...                   No                          0   \n",
       "1               -4.0  ...                   No                          0   \n",
       "2               -2.0  ...                   No                          0   \n",
       "3              157.0  ...                   No                          0   \n",
       "4                0.0  ...                  Yes                          0   \n",
       "\n",
       "   IncomeGroup  OwnsMotorcycle  AdjustmentsToCreditRating  \\\n",
       "0            4              No                          0   \n",
       "1            5              No                          0   \n",
       "2            6              No                          0   \n",
       "3            6              No                          0   \n",
       "4            9              No                          1   \n",
       "\n",
       "   MadeCallToRetentionTeam  CreditRating  PrizmCode    Occupation  \\\n",
       "0                      Yes     1-Highest   Suburban  Professional   \n",
       "1                       No      4-Medium   Suburban  Professional   \n",
       "2                       No        3-Good       Town        Crafts   \n",
       "3                       No      4-Medium      Other         Other   \n",
       "4                       No     1-Highest      Other  Professional   \n",
       "\n",
       "   MaritalStatus  \n",
       "0             No  \n",
       "1            Yes  \n",
       "2            Yes  \n",
       "3             No  \n",
       "4            Yes  \n",
       "\n",
       "[5 rows x 58 columns]"
      ]
     },
     "execution_count": 54,
     "metadata": {},
     "output_type": "execute_result"
    }
   ],
   "source": [
    "df1 = pd.read_csv('Processed_file.csv')\n",
    "df1.head()"
   ]
  },
  {
   "cell_type": "code",
   "execution_count": 55,
   "metadata": {
    "colab": {
     "base_uri": "https://localhost:8080/",
     "height": 256
    },
    "id": "ax2_Wb5tbHM_",
    "outputId": "3c695190-08eb-4c66-fd6b-98ef07ef6770"
   },
   "outputs": [
    {
     "data": {
      "text/html": [
       "<div>\n",
       "<style scoped>\n",
       "    .dataframe tbody tr th:only-of-type {\n",
       "        vertical-align: middle;\n",
       "    }\n",
       "\n",
       "    .dataframe tbody tr th {\n",
       "        vertical-align: top;\n",
       "    }\n",
       "\n",
       "    .dataframe thead th {\n",
       "        text-align: right;\n",
       "    }\n",
       "</style>\n",
       "<table border=\"1\" class=\"dataframe\">\n",
       "  <thead>\n",
       "    <tr style=\"text-align: right;\">\n",
       "      <th></th>\n",
       "      <th>CustomerID</th>\n",
       "      <th>Churn</th>\n",
       "      <th>MonthlyRevenue</th>\n",
       "      <th>MonthlyMinutes</th>\n",
       "      <th>TotalRecurringCharge</th>\n",
       "      <th>DirectorAssistedCalls</th>\n",
       "      <th>OverageMinutes</th>\n",
       "      <th>RoamingCalls</th>\n",
       "      <th>PercChangeMinutes</th>\n",
       "      <th>PercChangeRevenues</th>\n",
       "      <th>...</th>\n",
       "      <th>NotNewCellphoneUser</th>\n",
       "      <th>ReferralsMadeBySubscriber</th>\n",
       "      <th>IncomeGroup</th>\n",
       "      <th>OwnsMotorcycle</th>\n",
       "      <th>AdjustmentsToCreditRating</th>\n",
       "      <th>MadeCallToRetentionTeam</th>\n",
       "      <th>CreditRating</th>\n",
       "      <th>PrizmCode</th>\n",
       "      <th>Occupation</th>\n",
       "      <th>MaritalStatus</th>\n",
       "    </tr>\n",
       "  </thead>\n",
       "  <tbody>\n",
       "    <tr>\n",
       "      <th>0</th>\n",
       "      <td>3000002</td>\n",
       "      <td>1</td>\n",
       "      <td>24.00</td>\n",
       "      <td>219.0</td>\n",
       "      <td>22.0</td>\n",
       "      <td>0.25</td>\n",
       "      <td>0.0</td>\n",
       "      <td>0.0</td>\n",
       "      <td>-157.0</td>\n",
       "      <td>-19.0</td>\n",
       "      <td>...</td>\n",
       "      <td>No</td>\n",
       "      <td>0</td>\n",
       "      <td>4</td>\n",
       "      <td>No</td>\n",
       "      <td>0</td>\n",
       "      <td>Yes</td>\n",
       "      <td>1-Highest</td>\n",
       "      <td>Suburban</td>\n",
       "      <td>Professional</td>\n",
       "      <td>No</td>\n",
       "    </tr>\n",
       "    <tr>\n",
       "      <th>1</th>\n",
       "      <td>3000010</td>\n",
       "      <td>1</td>\n",
       "      <td>16.99</td>\n",
       "      <td>10.0</td>\n",
       "      <td>17.0</td>\n",
       "      <td>0.00</td>\n",
       "      <td>0.0</td>\n",
       "      <td>0.0</td>\n",
       "      <td>-4.0</td>\n",
       "      <td>0.0</td>\n",
       "      <td>...</td>\n",
       "      <td>No</td>\n",
       "      <td>0</td>\n",
       "      <td>5</td>\n",
       "      <td>No</td>\n",
       "      <td>0</td>\n",
       "      <td>No</td>\n",
       "      <td>4-Medium</td>\n",
       "      <td>Suburban</td>\n",
       "      <td>Professional</td>\n",
       "      <td>Yes</td>\n",
       "    </tr>\n",
       "    <tr>\n",
       "      <th>2</th>\n",
       "      <td>3000014</td>\n",
       "      <td>0</td>\n",
       "      <td>38.00</td>\n",
       "      <td>8.0</td>\n",
       "      <td>38.0</td>\n",
       "      <td>0.00</td>\n",
       "      <td>0.0</td>\n",
       "      <td>0.0</td>\n",
       "      <td>-2.0</td>\n",
       "      <td>0.0</td>\n",
       "      <td>...</td>\n",
       "      <td>No</td>\n",
       "      <td>0</td>\n",
       "      <td>6</td>\n",
       "      <td>No</td>\n",
       "      <td>0</td>\n",
       "      <td>No</td>\n",
       "      <td>3-Good</td>\n",
       "      <td>Town</td>\n",
       "      <td>Crafts</td>\n",
       "      <td>Yes</td>\n",
       "    </tr>\n",
       "    <tr>\n",
       "      <th>3</th>\n",
       "      <td>3000022</td>\n",
       "      <td>0</td>\n",
       "      <td>82.28</td>\n",
       "      <td>1312.0</td>\n",
       "      <td>75.0</td>\n",
       "      <td>1.24</td>\n",
       "      <td>0.0</td>\n",
       "      <td>0.0</td>\n",
       "      <td>157.0</td>\n",
       "      <td>8.1</td>\n",
       "      <td>...</td>\n",
       "      <td>No</td>\n",
       "      <td>0</td>\n",
       "      <td>6</td>\n",
       "      <td>No</td>\n",
       "      <td>0</td>\n",
       "      <td>No</td>\n",
       "      <td>4-Medium</td>\n",
       "      <td>Other</td>\n",
       "      <td>Other</td>\n",
       "      <td>No</td>\n",
       "    </tr>\n",
       "    <tr>\n",
       "      <th>4</th>\n",
       "      <td>3000026</td>\n",
       "      <td>1</td>\n",
       "      <td>17.14</td>\n",
       "      <td>0.0</td>\n",
       "      <td>17.0</td>\n",
       "      <td>0.00</td>\n",
       "      <td>0.0</td>\n",
       "      <td>0.0</td>\n",
       "      <td>0.0</td>\n",
       "      <td>-0.2</td>\n",
       "      <td>...</td>\n",
       "      <td>Yes</td>\n",
       "      <td>0</td>\n",
       "      <td>9</td>\n",
       "      <td>No</td>\n",
       "      <td>1</td>\n",
       "      <td>No</td>\n",
       "      <td>1-Highest</td>\n",
       "      <td>Other</td>\n",
       "      <td>Professional</td>\n",
       "      <td>Yes</td>\n",
       "    </tr>\n",
       "  </tbody>\n",
       "</table>\n",
       "<p>5 rows × 57 columns</p>\n",
       "</div>"
      ],
      "text/plain": [
       "   CustomerID  Churn  MonthlyRevenue  MonthlyMinutes  TotalRecurringCharge  \\\n",
       "0     3000002      1           24.00           219.0                  22.0   \n",
       "1     3000010      1           16.99            10.0                  17.0   \n",
       "2     3000014      0           38.00             8.0                  38.0   \n",
       "3     3000022      0           82.28          1312.0                  75.0   \n",
       "4     3000026      1           17.14             0.0                  17.0   \n",
       "\n",
       "   DirectorAssistedCalls  OverageMinutes  RoamingCalls  PercChangeMinutes  \\\n",
       "0                   0.25             0.0           0.0             -157.0   \n",
       "1                   0.00             0.0           0.0               -4.0   \n",
       "2                   0.00             0.0           0.0               -2.0   \n",
       "3                   1.24             0.0           0.0              157.0   \n",
       "4                   0.00             0.0           0.0                0.0   \n",
       "\n",
       "   PercChangeRevenues  ...  NotNewCellphoneUser  ReferralsMadeBySubscriber  \\\n",
       "0               -19.0  ...                   No                          0   \n",
       "1                 0.0  ...                   No                          0   \n",
       "2                 0.0  ...                   No                          0   \n",
       "3                 8.1  ...                   No                          0   \n",
       "4                -0.2  ...                  Yes                          0   \n",
       "\n",
       "   IncomeGroup  OwnsMotorcycle  AdjustmentsToCreditRating  \\\n",
       "0            4              No                          0   \n",
       "1            5              No                          0   \n",
       "2            6              No                          0   \n",
       "3            6              No                          0   \n",
       "4            9              No                          1   \n",
       "\n",
       "   MadeCallToRetentionTeam  CreditRating  PrizmCode    Occupation  \\\n",
       "0                      Yes     1-Highest   Suburban  Professional   \n",
       "1                       No      4-Medium   Suburban  Professional   \n",
       "2                       No        3-Good       Town        Crafts   \n",
       "3                       No      4-Medium      Other         Other   \n",
       "4                       No     1-Highest      Other  Professional   \n",
       "\n",
       "   MaritalStatus  \n",
       "0             No  \n",
       "1            Yes  \n",
       "2            Yes  \n",
       "3             No  \n",
       "4            Yes  \n",
       "\n",
       "[5 rows x 57 columns]"
      ]
     },
     "execution_count": 55,
     "metadata": {},
     "output_type": "execute_result"
    }
   ],
   "source": [
    "df1.drop('Unnamed: 0', axis = 1, inplace = True)\n",
    "df1.head()"
   ]
  },
  {
   "cell_type": "code",
   "execution_count": 56,
   "metadata": {
    "id": "2B7Sw0yJbQyQ"
   },
   "outputs": [],
   "source": [
    "df1.drop(['CustomerID', 'ServiceArea'], axis = 1, inplace = True)"
   ]
  },
  {
   "cell_type": "code",
   "execution_count": 57,
   "metadata": {
    "colab": {
     "base_uri": "https://localhost:8080/"
    },
    "id": "Op-k2W9zbgRJ",
    "outputId": "54b561cb-29e5-45a8-c90f-ec7c983864f8"
   },
   "outputs": [
    {
     "data": {
      "text/plain": [
       "0    1\n",
       "1    1\n",
       "2    0\n",
       "3    0\n",
       "4    1\n",
       "Name: Churn, dtype: int64"
      ]
     },
     "execution_count": 57,
     "metadata": {},
     "output_type": "execute_result"
    }
   ],
   "source": [
    "y = df1['Churn']\n",
    "y[:5]"
   ]
  },
  {
   "cell_type": "code",
   "execution_count": 58,
   "metadata": {
    "colab": {
     "base_uri": "https://localhost:8080/",
     "height": 256
    },
    "id": "9d8-FHtGbl4M",
    "outputId": "20288c55-b548-4367-e978-b6b7992a0a94"
   },
   "outputs": [
    {
     "data": {
      "text/html": [
       "<div>\n",
       "<style scoped>\n",
       "    .dataframe tbody tr th:only-of-type {\n",
       "        vertical-align: middle;\n",
       "    }\n",
       "\n",
       "    .dataframe tbody tr th {\n",
       "        vertical-align: top;\n",
       "    }\n",
       "\n",
       "    .dataframe thead th {\n",
       "        text-align: right;\n",
       "    }\n",
       "</style>\n",
       "<table border=\"1\" class=\"dataframe\">\n",
       "  <thead>\n",
       "    <tr style=\"text-align: right;\">\n",
       "      <th></th>\n",
       "      <th>Churn</th>\n",
       "      <th>MonthlyRevenue</th>\n",
       "      <th>MonthlyMinutes</th>\n",
       "      <th>TotalRecurringCharge</th>\n",
       "      <th>DirectorAssistedCalls</th>\n",
       "      <th>OverageMinutes</th>\n",
       "      <th>RoamingCalls</th>\n",
       "      <th>PercChangeMinutes</th>\n",
       "      <th>PercChangeRevenues</th>\n",
       "      <th>DroppedCalls</th>\n",
       "      <th>...</th>\n",
       "      <th>Handsets</th>\n",
       "      <th>HandsetModels</th>\n",
       "      <th>CurrentEquipmentDays</th>\n",
       "      <th>AgeHH1</th>\n",
       "      <th>AgeHH2</th>\n",
       "      <th>RetentionCalls</th>\n",
       "      <th>RetentionOffersAccepted</th>\n",
       "      <th>ReferralsMadeBySubscriber</th>\n",
       "      <th>IncomeGroup</th>\n",
       "      <th>AdjustmentsToCreditRating</th>\n",
       "    </tr>\n",
       "  </thead>\n",
       "  <tbody>\n",
       "    <tr>\n",
       "      <th>0</th>\n",
       "      <td>1</td>\n",
       "      <td>24.00</td>\n",
       "      <td>219.0</td>\n",
       "      <td>22.0</td>\n",
       "      <td>0.25</td>\n",
       "      <td>0.0</td>\n",
       "      <td>0.0</td>\n",
       "      <td>-157.0</td>\n",
       "      <td>-19.0</td>\n",
       "      <td>0.7</td>\n",
       "      <td>...</td>\n",
       "      <td>2.0</td>\n",
       "      <td>2.0</td>\n",
       "      <td>361.0</td>\n",
       "      <td>62.0</td>\n",
       "      <td>0.0</td>\n",
       "      <td>1</td>\n",
       "      <td>0</td>\n",
       "      <td>0</td>\n",
       "      <td>4</td>\n",
       "      <td>0</td>\n",
       "    </tr>\n",
       "    <tr>\n",
       "      <th>1</th>\n",
       "      <td>1</td>\n",
       "      <td>16.99</td>\n",
       "      <td>10.0</td>\n",
       "      <td>17.0</td>\n",
       "      <td>0.00</td>\n",
       "      <td>0.0</td>\n",
       "      <td>0.0</td>\n",
       "      <td>-4.0</td>\n",
       "      <td>0.0</td>\n",
       "      <td>0.3</td>\n",
       "      <td>...</td>\n",
       "      <td>2.0</td>\n",
       "      <td>1.0</td>\n",
       "      <td>1504.0</td>\n",
       "      <td>40.0</td>\n",
       "      <td>42.0</td>\n",
       "      <td>0</td>\n",
       "      <td>0</td>\n",
       "      <td>0</td>\n",
       "      <td>5</td>\n",
       "      <td>0</td>\n",
       "    </tr>\n",
       "    <tr>\n",
       "      <th>2</th>\n",
       "      <td>0</td>\n",
       "      <td>38.00</td>\n",
       "      <td>8.0</td>\n",
       "      <td>38.0</td>\n",
       "      <td>0.00</td>\n",
       "      <td>0.0</td>\n",
       "      <td>0.0</td>\n",
       "      <td>-2.0</td>\n",
       "      <td>0.0</td>\n",
       "      <td>0.0</td>\n",
       "      <td>...</td>\n",
       "      <td>1.0</td>\n",
       "      <td>1.0</td>\n",
       "      <td>1812.0</td>\n",
       "      <td>26.0</td>\n",
       "      <td>26.0</td>\n",
       "      <td>0</td>\n",
       "      <td>0</td>\n",
       "      <td>0</td>\n",
       "      <td>6</td>\n",
       "      <td>0</td>\n",
       "    </tr>\n",
       "    <tr>\n",
       "      <th>3</th>\n",
       "      <td>0</td>\n",
       "      <td>82.28</td>\n",
       "      <td>1312.0</td>\n",
       "      <td>75.0</td>\n",
       "      <td>1.24</td>\n",
       "      <td>0.0</td>\n",
       "      <td>0.0</td>\n",
       "      <td>157.0</td>\n",
       "      <td>8.1</td>\n",
       "      <td>52.0</td>\n",
       "      <td>...</td>\n",
       "      <td>9.0</td>\n",
       "      <td>4.0</td>\n",
       "      <td>458.0</td>\n",
       "      <td>30.0</td>\n",
       "      <td>0.0</td>\n",
       "      <td>0</td>\n",
       "      <td>0</td>\n",
       "      <td>0</td>\n",
       "      <td>6</td>\n",
       "      <td>0</td>\n",
       "    </tr>\n",
       "    <tr>\n",
       "      <th>4</th>\n",
       "      <td>1</td>\n",
       "      <td>17.14</td>\n",
       "      <td>0.0</td>\n",
       "      <td>17.0</td>\n",
       "      <td>0.00</td>\n",
       "      <td>0.0</td>\n",
       "      <td>0.0</td>\n",
       "      <td>0.0</td>\n",
       "      <td>-0.2</td>\n",
       "      <td>0.0</td>\n",
       "      <td>...</td>\n",
       "      <td>4.0</td>\n",
       "      <td>3.0</td>\n",
       "      <td>852.0</td>\n",
       "      <td>46.0</td>\n",
       "      <td>54.0</td>\n",
       "      <td>0</td>\n",
       "      <td>0</td>\n",
       "      <td>0</td>\n",
       "      <td>9</td>\n",
       "      <td>1</td>\n",
       "    </tr>\n",
       "  </tbody>\n",
       "</table>\n",
       "<p>5 rows × 35 columns</p>\n",
       "</div>"
      ],
      "text/plain": [
       "   Churn  MonthlyRevenue  MonthlyMinutes  TotalRecurringCharge  \\\n",
       "0      1           24.00           219.0                  22.0   \n",
       "1      1           16.99            10.0                  17.0   \n",
       "2      0           38.00             8.0                  38.0   \n",
       "3      0           82.28          1312.0                  75.0   \n",
       "4      1           17.14             0.0                  17.0   \n",
       "\n",
       "   DirectorAssistedCalls  OverageMinutes  RoamingCalls  PercChangeMinutes  \\\n",
       "0                   0.25             0.0           0.0             -157.0   \n",
       "1                   0.00             0.0           0.0               -4.0   \n",
       "2                   0.00             0.0           0.0               -2.0   \n",
       "3                   1.24             0.0           0.0              157.0   \n",
       "4                   0.00             0.0           0.0                0.0   \n",
       "\n",
       "   PercChangeRevenues  DroppedCalls  ...  Handsets  HandsetModels  \\\n",
       "0               -19.0           0.7  ...       2.0            2.0   \n",
       "1                 0.0           0.3  ...       2.0            1.0   \n",
       "2                 0.0           0.0  ...       1.0            1.0   \n",
       "3                 8.1          52.0  ...       9.0            4.0   \n",
       "4                -0.2           0.0  ...       4.0            3.0   \n",
       "\n",
       "   CurrentEquipmentDays  AgeHH1  AgeHH2  RetentionCalls  \\\n",
       "0                 361.0    62.0     0.0               1   \n",
       "1                1504.0    40.0    42.0               0   \n",
       "2                1812.0    26.0    26.0               0   \n",
       "3                 458.0    30.0     0.0               0   \n",
       "4                 852.0    46.0    54.0               0   \n",
       "\n",
       "   RetentionOffersAccepted  ReferralsMadeBySubscriber  IncomeGroup  \\\n",
       "0                        0                          0            4   \n",
       "1                        0                          0            5   \n",
       "2                        0                          0            6   \n",
       "3                        0                          0            6   \n",
       "4                        0                          0            9   \n",
       "\n",
       "   AdjustmentsToCreditRating  \n",
       "0                          0  \n",
       "1                          0  \n",
       "2                          0  \n",
       "3                          0  \n",
       "4                          1  \n",
       "\n",
       "[5 rows x 35 columns]"
      ]
     },
     "execution_count": 58,
     "metadata": {},
     "output_type": "execute_result"
    }
   ],
   "source": [
    "df_num = df1.select_dtypes(include = [np.number])\n",
    "df_num.head()"
   ]
  },
  {
   "cell_type": "code",
   "execution_count": 59,
   "metadata": {
    "id": "XcSr8hdobulx"
   },
   "outputs": [],
   "source": [
    "df_num.drop('Churn', axis = 1, inplace = True)"
   ]
  },
  {
   "cell_type": "code",
   "execution_count": 60,
   "metadata": {
    "colab": {
     "base_uri": "https://localhost:8080/",
     "height": 226
    },
    "id": "u6BTpIc3bujf",
    "outputId": "91b5a1a3-9b21-4dbf-d088-fdda536dc68d"
   },
   "outputs": [
    {
     "data": {
      "text/html": [
       "<div>\n",
       "<style scoped>\n",
       "    .dataframe tbody tr th:only-of-type {\n",
       "        vertical-align: middle;\n",
       "    }\n",
       "\n",
       "    .dataframe tbody tr th {\n",
       "        vertical-align: top;\n",
       "    }\n",
       "\n",
       "    .dataframe thead th {\n",
       "        text-align: right;\n",
       "    }\n",
       "</style>\n",
       "<table border=\"1\" class=\"dataframe\">\n",
       "  <thead>\n",
       "    <tr style=\"text-align: right;\">\n",
       "      <th></th>\n",
       "      <th>ChildrenInHH</th>\n",
       "      <th>HandsetRefurbished</th>\n",
       "      <th>HandsetWebCapable</th>\n",
       "      <th>TruckOwner</th>\n",
       "      <th>RVOwner</th>\n",
       "      <th>Homeownership</th>\n",
       "      <th>BuysViaMailOrder</th>\n",
       "      <th>RespondsToMailOffers</th>\n",
       "      <th>OptOutMailings</th>\n",
       "      <th>NonUSTravel</th>\n",
       "      <th>OwnsComputer</th>\n",
       "      <th>HasCreditCard</th>\n",
       "      <th>NewCellphoneUser</th>\n",
       "      <th>NotNewCellphoneUser</th>\n",
       "      <th>OwnsMotorcycle</th>\n",
       "      <th>MadeCallToRetentionTeam</th>\n",
       "      <th>CreditRating</th>\n",
       "      <th>PrizmCode</th>\n",
       "      <th>Occupation</th>\n",
       "      <th>MaritalStatus</th>\n",
       "    </tr>\n",
       "  </thead>\n",
       "  <tbody>\n",
       "    <tr>\n",
       "      <th>0</th>\n",
       "      <td>No</td>\n",
       "      <td>No</td>\n",
       "      <td>Yes</td>\n",
       "      <td>No</td>\n",
       "      <td>No</td>\n",
       "      <td>Known</td>\n",
       "      <td>Yes</td>\n",
       "      <td>Yes</td>\n",
       "      <td>No</td>\n",
       "      <td>No</td>\n",
       "      <td>Yes</td>\n",
       "      <td>Yes</td>\n",
       "      <td>No</td>\n",
       "      <td>No</td>\n",
       "      <td>No</td>\n",
       "      <td>Yes</td>\n",
       "      <td>1-Highest</td>\n",
       "      <td>Suburban</td>\n",
       "      <td>Professional</td>\n",
       "      <td>No</td>\n",
       "    </tr>\n",
       "    <tr>\n",
       "      <th>1</th>\n",
       "      <td>Yes</td>\n",
       "      <td>No</td>\n",
       "      <td>No</td>\n",
       "      <td>No</td>\n",
       "      <td>No</td>\n",
       "      <td>Known</td>\n",
       "      <td>Yes</td>\n",
       "      <td>Yes</td>\n",
       "      <td>No</td>\n",
       "      <td>No</td>\n",
       "      <td>Yes</td>\n",
       "      <td>Yes</td>\n",
       "      <td>Yes</td>\n",
       "      <td>No</td>\n",
       "      <td>No</td>\n",
       "      <td>No</td>\n",
       "      <td>4-Medium</td>\n",
       "      <td>Suburban</td>\n",
       "      <td>Professional</td>\n",
       "      <td>Yes</td>\n",
       "    </tr>\n",
       "    <tr>\n",
       "      <th>2</th>\n",
       "      <td>Yes</td>\n",
       "      <td>No</td>\n",
       "      <td>No</td>\n",
       "      <td>No</td>\n",
       "      <td>No</td>\n",
       "      <td>Unknown</td>\n",
       "      <td>No</td>\n",
       "      <td>No</td>\n",
       "      <td>No</td>\n",
       "      <td>No</td>\n",
       "      <td>No</td>\n",
       "      <td>Yes</td>\n",
       "      <td>Yes</td>\n",
       "      <td>No</td>\n",
       "      <td>No</td>\n",
       "      <td>No</td>\n",
       "      <td>3-Good</td>\n",
       "      <td>Town</td>\n",
       "      <td>Crafts</td>\n",
       "      <td>Yes</td>\n",
       "    </tr>\n",
       "    <tr>\n",
       "      <th>3</th>\n",
       "      <td>No</td>\n",
       "      <td>No</td>\n",
       "      <td>Yes</td>\n",
       "      <td>No</td>\n",
       "      <td>No</td>\n",
       "      <td>Known</td>\n",
       "      <td>Yes</td>\n",
       "      <td>Yes</td>\n",
       "      <td>No</td>\n",
       "      <td>No</td>\n",
       "      <td>No</td>\n",
       "      <td>Yes</td>\n",
       "      <td>Yes</td>\n",
       "      <td>No</td>\n",
       "      <td>No</td>\n",
       "      <td>No</td>\n",
       "      <td>4-Medium</td>\n",
       "      <td>Other</td>\n",
       "      <td>Other</td>\n",
       "      <td>No</td>\n",
       "    </tr>\n",
       "    <tr>\n",
       "      <th>4</th>\n",
       "      <td>No</td>\n",
       "      <td>No</td>\n",
       "      <td>No</td>\n",
       "      <td>No</td>\n",
       "      <td>No</td>\n",
       "      <td>Known</td>\n",
       "      <td>Yes</td>\n",
       "      <td>Yes</td>\n",
       "      <td>No</td>\n",
       "      <td>No</td>\n",
       "      <td>Yes</td>\n",
       "      <td>Yes</td>\n",
       "      <td>No</td>\n",
       "      <td>Yes</td>\n",
       "      <td>No</td>\n",
       "      <td>No</td>\n",
       "      <td>1-Highest</td>\n",
       "      <td>Other</td>\n",
       "      <td>Professional</td>\n",
       "      <td>Yes</td>\n",
       "    </tr>\n",
       "  </tbody>\n",
       "</table>\n",
       "</div>"
      ],
      "text/plain": [
       "  ChildrenInHH HandsetRefurbished HandsetWebCapable TruckOwner RVOwner  \\\n",
       "0           No                 No               Yes         No      No   \n",
       "1          Yes                 No                No         No      No   \n",
       "2          Yes                 No                No         No      No   \n",
       "3           No                 No               Yes         No      No   \n",
       "4           No                 No                No         No      No   \n",
       "\n",
       "  Homeownership BuysViaMailOrder RespondsToMailOffers OptOutMailings  \\\n",
       "0         Known              Yes                  Yes             No   \n",
       "1         Known              Yes                  Yes             No   \n",
       "2       Unknown               No                   No             No   \n",
       "3         Known              Yes                  Yes             No   \n",
       "4         Known              Yes                  Yes             No   \n",
       "\n",
       "  NonUSTravel OwnsComputer HasCreditCard NewCellphoneUser NotNewCellphoneUser  \\\n",
       "0          No          Yes           Yes               No                  No   \n",
       "1          No          Yes           Yes              Yes                  No   \n",
       "2          No           No           Yes              Yes                  No   \n",
       "3          No           No           Yes              Yes                  No   \n",
       "4          No          Yes           Yes               No                 Yes   \n",
       "\n",
       "  OwnsMotorcycle MadeCallToRetentionTeam CreditRating PrizmCode    Occupation  \\\n",
       "0             No                     Yes    1-Highest  Suburban  Professional   \n",
       "1             No                      No     4-Medium  Suburban  Professional   \n",
       "2             No                      No       3-Good      Town        Crafts   \n",
       "3             No                      No     4-Medium     Other         Other   \n",
       "4             No                      No    1-Highest     Other  Professional   \n",
       "\n",
       "  MaritalStatus  \n",
       "0            No  \n",
       "1           Yes  \n",
       "2           Yes  \n",
       "3            No  \n",
       "4           Yes  "
      ]
     },
     "execution_count": 60,
     "metadata": {},
     "output_type": "execute_result"
    }
   ],
   "source": [
    "df_cat = df1.select_dtypes(include = 'O')\n",
    "df_cat.head()"
   ]
  },
  {
   "cell_type": "code",
   "execution_count": 61,
   "metadata": {
    "colab": {
     "base_uri": "https://localhost:8080/",
     "height": 161
    },
    "id": "4MKnyrwxbuhI",
    "outputId": "55e8f49b-9d9c-4f52-83d3-9c0738a53d8d"
   },
   "outputs": [
    {
     "data": {
      "text/html": [
       "<div>\n",
       "<style scoped>\n",
       "    .dataframe tbody tr th:only-of-type {\n",
       "        vertical-align: middle;\n",
       "    }\n",
       "\n",
       "    .dataframe tbody tr th {\n",
       "        vertical-align: top;\n",
       "    }\n",
       "\n",
       "    .dataframe thead th {\n",
       "        text-align: right;\n",
       "    }\n",
       "</style>\n",
       "<table border=\"1\" class=\"dataframe\">\n",
       "  <thead>\n",
       "    <tr style=\"text-align: right;\">\n",
       "      <th></th>\n",
       "      <th>ChildrenInHH_Yes</th>\n",
       "      <th>HandsetRefurbished_Yes</th>\n",
       "      <th>HandsetWebCapable_Yes</th>\n",
       "      <th>TruckOwner_Yes</th>\n",
       "      <th>RVOwner_Yes</th>\n",
       "      <th>Homeownership_Unknown</th>\n",
       "      <th>BuysViaMailOrder_Yes</th>\n",
       "      <th>RespondsToMailOffers_Yes</th>\n",
       "      <th>OptOutMailings_Yes</th>\n",
       "      <th>NonUSTravel_Yes</th>\n",
       "      <th>...</th>\n",
       "      <th>PrizmCode_Town</th>\n",
       "      <th>Occupation_Crafts</th>\n",
       "      <th>Occupation_Homemaker</th>\n",
       "      <th>Occupation_Other</th>\n",
       "      <th>Occupation_Professional</th>\n",
       "      <th>Occupation_Retired</th>\n",
       "      <th>Occupation_Self</th>\n",
       "      <th>Occupation_Student</th>\n",
       "      <th>MaritalStatus_Unknown</th>\n",
       "      <th>MaritalStatus_Yes</th>\n",
       "    </tr>\n",
       "  </thead>\n",
       "  <tbody>\n",
       "    <tr>\n",
       "      <th>0</th>\n",
       "      <td>0</td>\n",
       "      <td>0</td>\n",
       "      <td>1</td>\n",
       "      <td>0</td>\n",
       "      <td>0</td>\n",
       "      <td>0</td>\n",
       "      <td>1</td>\n",
       "      <td>1</td>\n",
       "      <td>0</td>\n",
       "      <td>0</td>\n",
       "      <td>...</td>\n",
       "      <td>0</td>\n",
       "      <td>0</td>\n",
       "      <td>0</td>\n",
       "      <td>0</td>\n",
       "      <td>1</td>\n",
       "      <td>0</td>\n",
       "      <td>0</td>\n",
       "      <td>0</td>\n",
       "      <td>0</td>\n",
       "      <td>0</td>\n",
       "    </tr>\n",
       "    <tr>\n",
       "      <th>1</th>\n",
       "      <td>1</td>\n",
       "      <td>0</td>\n",
       "      <td>0</td>\n",
       "      <td>0</td>\n",
       "      <td>0</td>\n",
       "      <td>0</td>\n",
       "      <td>1</td>\n",
       "      <td>1</td>\n",
       "      <td>0</td>\n",
       "      <td>0</td>\n",
       "      <td>...</td>\n",
       "      <td>0</td>\n",
       "      <td>0</td>\n",
       "      <td>0</td>\n",
       "      <td>0</td>\n",
       "      <td>1</td>\n",
       "      <td>0</td>\n",
       "      <td>0</td>\n",
       "      <td>0</td>\n",
       "      <td>0</td>\n",
       "      <td>1</td>\n",
       "    </tr>\n",
       "  </tbody>\n",
       "</table>\n",
       "<p>2 rows × 34 columns</p>\n",
       "</div>"
      ],
      "text/plain": [
       "   ChildrenInHH_Yes  HandsetRefurbished_Yes  HandsetWebCapable_Yes  \\\n",
       "0                 0                       0                      1   \n",
       "1                 1                       0                      0   \n",
       "\n",
       "   TruckOwner_Yes  RVOwner_Yes  Homeownership_Unknown  BuysViaMailOrder_Yes  \\\n",
       "0               0            0                      0                     1   \n",
       "1               0            0                      0                     1   \n",
       "\n",
       "   RespondsToMailOffers_Yes  OptOutMailings_Yes  NonUSTravel_Yes  ...  \\\n",
       "0                         1                   0                0  ...   \n",
       "1                         1                   0                0  ...   \n",
       "\n",
       "   PrizmCode_Town  Occupation_Crafts  Occupation_Homemaker  Occupation_Other  \\\n",
       "0               0                  0                     0                 0   \n",
       "1               0                  0                     0                 0   \n",
       "\n",
       "   Occupation_Professional  Occupation_Retired  Occupation_Self  \\\n",
       "0                        1                   0                0   \n",
       "1                        1                   0                0   \n",
       "\n",
       "   Occupation_Student  MaritalStatus_Unknown  MaritalStatus_Yes  \n",
       "0                   0                      0                  0  \n",
       "1                   0                      0                  1  \n",
       "\n",
       "[2 rows x 34 columns]"
      ]
     },
     "execution_count": 61,
     "metadata": {},
     "output_type": "execute_result"
    }
   ],
   "source": [
    "dummy = pd.get_dummies(df_cat, drop_first=True)\n",
    "dummy.head(2)"
   ]
  },
  {
   "cell_type": "code",
   "execution_count": 62,
   "metadata": {
    "colab": {
     "base_uri": "https://localhost:8080/",
     "height": 161
    },
    "id": "hsFXixMWcHI7",
    "outputId": "2b0bd558-6036-46c6-b8c5-5bee71e979da"
   },
   "outputs": [
    {
     "data": {
      "text/html": [
       "<div>\n",
       "<style scoped>\n",
       "    .dataframe tbody tr th:only-of-type {\n",
       "        vertical-align: middle;\n",
       "    }\n",
       "\n",
       "    .dataframe tbody tr th {\n",
       "        vertical-align: top;\n",
       "    }\n",
       "\n",
       "    .dataframe thead th {\n",
       "        text-align: right;\n",
       "    }\n",
       "</style>\n",
       "<table border=\"1\" class=\"dataframe\">\n",
       "  <thead>\n",
       "    <tr style=\"text-align: right;\">\n",
       "      <th></th>\n",
       "      <th>MonthlyRevenue</th>\n",
       "      <th>MonthlyMinutes</th>\n",
       "      <th>TotalRecurringCharge</th>\n",
       "      <th>DirectorAssistedCalls</th>\n",
       "      <th>OverageMinutes</th>\n",
       "      <th>RoamingCalls</th>\n",
       "      <th>PercChangeMinutes</th>\n",
       "      <th>PercChangeRevenues</th>\n",
       "      <th>DroppedCalls</th>\n",
       "      <th>BlockedCalls</th>\n",
       "      <th>...</th>\n",
       "      <th>Handsets</th>\n",
       "      <th>HandsetModels</th>\n",
       "      <th>CurrentEquipmentDays</th>\n",
       "      <th>AgeHH1</th>\n",
       "      <th>AgeHH2</th>\n",
       "      <th>RetentionCalls</th>\n",
       "      <th>RetentionOffersAccepted</th>\n",
       "      <th>ReferralsMadeBySubscriber</th>\n",
       "      <th>IncomeGroup</th>\n",
       "      <th>AdjustmentsToCreditRating</th>\n",
       "    </tr>\n",
       "  </thead>\n",
       "  <tbody>\n",
       "    <tr>\n",
       "      <th>0</th>\n",
       "      <td>-0.783096</td>\n",
       "      <td>-0.578622</td>\n",
       "      <td>-1.042504</td>\n",
       "      <td>-0.289052</td>\n",
       "      <td>-0.41379</td>\n",
       "      <td>-0.125718</td>\n",
       "      <td>-0.567059</td>\n",
       "      <td>-0.451775</td>\n",
       "      <td>-0.587303</td>\n",
       "      <td>-0.309284</td>\n",
       "      <td>...</td>\n",
       "      <td>0.146016</td>\n",
       "      <td>0.487086</td>\n",
       "      <td>-0.077010</td>\n",
       "      <td>1.395945</td>\n",
       "      <td>-0.869616</td>\n",
       "      <td>4.662897</td>\n",
       "      <td>-0.1283</td>\n",
       "      <td>-0.169283</td>\n",
       "      <td>-0.103411</td>\n",
       "      <td>-0.140707</td>\n",
       "    </tr>\n",
       "    <tr>\n",
       "      <th>1</th>\n",
       "      <td>-0.940828</td>\n",
       "      <td>-0.973610</td>\n",
       "      <td>-1.252478</td>\n",
       "      <td>-0.401392</td>\n",
       "      <td>-0.41379</td>\n",
       "      <td>-0.125718</td>\n",
       "      <td>0.029233</td>\n",
       "      <td>0.030066</td>\n",
       "      <td>-0.631532</td>\n",
       "      <td>-0.373230</td>\n",
       "      <td>...</td>\n",
       "      <td>0.146016</td>\n",
       "      <td>-0.616767</td>\n",
       "      <td>4.426588</td>\n",
       "      <td>0.391631</td>\n",
       "      <td>0.889077</td>\n",
       "      <td>-0.180167</td>\n",
       "      <td>-0.1283</td>\n",
       "      <td>-0.169283</td>\n",
       "      <td>0.215243</td>\n",
       "      <td>-0.140707</td>\n",
       "    </tr>\n",
       "  </tbody>\n",
       "</table>\n",
       "<p>2 rows × 34 columns</p>\n",
       "</div>"
      ],
      "text/plain": [
       "   MonthlyRevenue  MonthlyMinutes  TotalRecurringCharge  \\\n",
       "0       -0.783096       -0.578622             -1.042504   \n",
       "1       -0.940828       -0.973610             -1.252478   \n",
       "\n",
       "   DirectorAssistedCalls  OverageMinutes  RoamingCalls  PercChangeMinutes  \\\n",
       "0              -0.289052        -0.41379     -0.125718          -0.567059   \n",
       "1              -0.401392        -0.41379     -0.125718           0.029233   \n",
       "\n",
       "   PercChangeRevenues  DroppedCalls  BlockedCalls  ...  Handsets  \\\n",
       "0           -0.451775     -0.587303     -0.309284  ...  0.146016   \n",
       "1            0.030066     -0.631532     -0.373230  ...  0.146016   \n",
       "\n",
       "   HandsetModels  CurrentEquipmentDays    AgeHH1    AgeHH2  RetentionCalls  \\\n",
       "0       0.487086             -0.077010  1.395945 -0.869616        4.662897   \n",
       "1      -0.616767              4.426588  0.391631  0.889077       -0.180167   \n",
       "\n",
       "   RetentionOffersAccepted  ReferralsMadeBySubscriber  IncomeGroup  \\\n",
       "0                  -0.1283                  -0.169283    -0.103411   \n",
       "1                  -0.1283                  -0.169283     0.215243   \n",
       "\n",
       "   AdjustmentsToCreditRating  \n",
       "0                  -0.140707  \n",
       "1                  -0.140707  \n",
       "\n",
       "[2 rows x 34 columns]"
      ]
     },
     "execution_count": 62,
     "metadata": {},
     "output_type": "execute_result"
    }
   ],
   "source": [
    "#lets scale the data for the numerical data.\n",
    "#Lets use the StandardScaler.\n",
    "\n",
    "X_scaler = StandardScaler()\n",
    "num_scaled = X_scaler.fit_transform(df_num)\n",
    "df_num_scaled = pd.DataFrame(num_scaled, columns = df_num.columns)\n",
    "\n",
    "df_num_scaled.head(2)"
   ]
  },
  {
   "cell_type": "code",
   "execution_count": 63,
   "metadata": {
    "colab": {
     "base_uri": "https://localhost:8080/",
     "height": 161
    },
    "id": "8jp6YvhdcHGk",
    "outputId": "f4c4dba5-73d7-4fc7-ffdf-9b670383b004"
   },
   "outputs": [
    {
     "data": {
      "text/html": [
       "<div>\n",
       "<style scoped>\n",
       "    .dataframe tbody tr th:only-of-type {\n",
       "        vertical-align: middle;\n",
       "    }\n",
       "\n",
       "    .dataframe tbody tr th {\n",
       "        vertical-align: top;\n",
       "    }\n",
       "\n",
       "    .dataframe thead th {\n",
       "        text-align: right;\n",
       "    }\n",
       "</style>\n",
       "<table border=\"1\" class=\"dataframe\">\n",
       "  <thead>\n",
       "    <tr style=\"text-align: right;\">\n",
       "      <th></th>\n",
       "      <th>MonthlyRevenue</th>\n",
       "      <th>MonthlyMinutes</th>\n",
       "      <th>TotalRecurringCharge</th>\n",
       "      <th>DirectorAssistedCalls</th>\n",
       "      <th>OverageMinutes</th>\n",
       "      <th>RoamingCalls</th>\n",
       "      <th>PercChangeMinutes</th>\n",
       "      <th>PercChangeRevenues</th>\n",
       "      <th>DroppedCalls</th>\n",
       "      <th>BlockedCalls</th>\n",
       "      <th>...</th>\n",
       "      <th>PrizmCode_Town</th>\n",
       "      <th>Occupation_Crafts</th>\n",
       "      <th>Occupation_Homemaker</th>\n",
       "      <th>Occupation_Other</th>\n",
       "      <th>Occupation_Professional</th>\n",
       "      <th>Occupation_Retired</th>\n",
       "      <th>Occupation_Self</th>\n",
       "      <th>Occupation_Student</th>\n",
       "      <th>MaritalStatus_Unknown</th>\n",
       "      <th>MaritalStatus_Yes</th>\n",
       "    </tr>\n",
       "  </thead>\n",
       "  <tbody>\n",
       "    <tr>\n",
       "      <th>0</th>\n",
       "      <td>-0.783096</td>\n",
       "      <td>-0.578622</td>\n",
       "      <td>-1.042504</td>\n",
       "      <td>-0.289052</td>\n",
       "      <td>-0.41379</td>\n",
       "      <td>-0.125718</td>\n",
       "      <td>-0.567059</td>\n",
       "      <td>-0.451775</td>\n",
       "      <td>-0.587303</td>\n",
       "      <td>-0.309284</td>\n",
       "      <td>...</td>\n",
       "      <td>0</td>\n",
       "      <td>0</td>\n",
       "      <td>0</td>\n",
       "      <td>0</td>\n",
       "      <td>1</td>\n",
       "      <td>0</td>\n",
       "      <td>0</td>\n",
       "      <td>0</td>\n",
       "      <td>0</td>\n",
       "      <td>0</td>\n",
       "    </tr>\n",
       "    <tr>\n",
       "      <th>1</th>\n",
       "      <td>-0.940828</td>\n",
       "      <td>-0.973610</td>\n",
       "      <td>-1.252478</td>\n",
       "      <td>-0.401392</td>\n",
       "      <td>-0.41379</td>\n",
       "      <td>-0.125718</td>\n",
       "      <td>0.029233</td>\n",
       "      <td>0.030066</td>\n",
       "      <td>-0.631532</td>\n",
       "      <td>-0.373230</td>\n",
       "      <td>...</td>\n",
       "      <td>0</td>\n",
       "      <td>0</td>\n",
       "      <td>0</td>\n",
       "      <td>0</td>\n",
       "      <td>1</td>\n",
       "      <td>0</td>\n",
       "      <td>0</td>\n",
       "      <td>0</td>\n",
       "      <td>0</td>\n",
       "      <td>1</td>\n",
       "    </tr>\n",
       "  </tbody>\n",
       "</table>\n",
       "<p>2 rows × 68 columns</p>\n",
       "</div>"
      ],
      "text/plain": [
       "   MonthlyRevenue  MonthlyMinutes  TotalRecurringCharge  \\\n",
       "0       -0.783096       -0.578622             -1.042504   \n",
       "1       -0.940828       -0.973610             -1.252478   \n",
       "\n",
       "   DirectorAssistedCalls  OverageMinutes  RoamingCalls  PercChangeMinutes  \\\n",
       "0              -0.289052        -0.41379     -0.125718          -0.567059   \n",
       "1              -0.401392        -0.41379     -0.125718           0.029233   \n",
       "\n",
       "   PercChangeRevenues  DroppedCalls  BlockedCalls  ...  PrizmCode_Town  \\\n",
       "0           -0.451775     -0.587303     -0.309284  ...               0   \n",
       "1            0.030066     -0.631532     -0.373230  ...               0   \n",
       "\n",
       "   Occupation_Crafts  Occupation_Homemaker  Occupation_Other  \\\n",
       "0                  0                     0                 0   \n",
       "1                  0                     0                 0   \n",
       "\n",
       "   Occupation_Professional  Occupation_Retired  Occupation_Self  \\\n",
       "0                        1                   0                0   \n",
       "1                        1                   0                0   \n",
       "\n",
       "   Occupation_Student  MaritalStatus_Unknown  MaritalStatus_Yes  \n",
       "0                   0                      0                  0  \n",
       "1                   0                      0                  1  \n",
       "\n",
       "[2 rows x 68 columns]"
      ]
     },
     "execution_count": 63,
     "metadata": {},
     "output_type": "execute_result"
    }
   ],
   "source": [
    "# Concating the scaled values and the dummy variables.\n",
    "X = pd.concat([df_num_scaled, dummy], axis =1 )\n",
    "X.head(2)"
   ]
  },
  {
   "cell_type": "code",
   "execution_count": 64,
   "metadata": {
    "colab": {
     "base_uri": "https://localhost:8080/"
    },
    "id": "pJQTgmy8cHEJ",
    "outputId": "99271923-1233-4b18-96b7-a1f1166649c4"
   },
   "outputs": [
    {
     "name": "stdout",
     "output_type": "stream",
     "text": [
      "X_train (40837, 68)\n",
      "y_train (40837,)\n",
      "X_test (10210, 68)\n",
      "y_test (10210,)\n"
     ]
    }
   ],
   "source": [
    "X_train, X_test, y_train, y_test = train_test_split(X, y, test_size = 0.2, random_state = 42)\n",
    "print('X_train', X_train.shape)\n",
    "print('y_train', y_train.shape)\n",
    "print('X_test', X_test.shape)\n",
    "print('y_test', y_test.shape)"
   ]
  },
  {
   "cell_type": "markdown",
   "metadata": {},
   "source": [
    "### Estimator"
   ]
  },
  {
   "cell_type": "code",
   "execution_count": 65,
   "metadata": {
    "id": "YHbHqk1MWMKM"
   },
   "outputs": [],
   "source": [
    "def model_train_and_score(estimator, X_train, y_train, X_test, y_test):\n",
    "    estimator.fit(X_train, y_train)\n",
    "    y_pred = estimator.predict(X_test)\n",
    "    y_pred_train = estimator.predict(X_train)\n",
    "\n",
    "    print(\"**************************************************\")\n",
    "    print(\"________\"+estimator.__class__.__name__+\"__________\")\n",
    "    print()\n",
    "    print(\"Accuracy: {}\".format(accuracy_score(y_test, y_pred)))\n",
    "    print(\"Precision: {}\".format(precision_score(y_test, y_pred, average = 'weighted')))\n",
    "    print(\"Recall: {}\".format(recall_score(y_test, y_pred, average = 'weighted')))\n",
    "    print(\"F1 Score: {}\".format(f1_score(y_test, y_pred, average = 'weighted')))\n",
    "    print()\n",
    "    print('Classification Report on train data \\n',classification_report(y_train,y_pred_train))\n",
    "    print()\n",
    "    print('Classification Report on test data \\n',classification_report(y_test,y_pred))\n",
    "    print()\n",
    "    print(\"**************************************************\")"
   ]
  },
  {
   "cell_type": "code",
   "execution_count": null,
   "metadata": {
    "id": "z7P9lyRybMgB"
   },
   "outputs": [],
   "source": []
  },
  {
   "cell_type": "markdown",
   "metadata": {
    "id": "Oorw0XK0bNYE"
   },
   "source": [
    "**XGBoost Classifier**"
   ]
  },
  {
   "cell_type": "code",
   "execution_count": 66,
   "metadata": {
    "colab": {
     "base_uri": "https://localhost:8080/"
    },
    "id": "qO5DirV8WL9t",
    "outputId": "d6a772b6-ae30-4161-feaa-bf60ff132fc2"
   },
   "outputs": [
    {
     "name": "stdout",
     "output_type": "stream",
     "text": [
      "**************************************************\n",
      "________XGBClassifier__________\n",
      "\n",
      "Accuracy: 0.719588638589618\n",
      "Precision: 0.6802981093156099\n",
      "Recall: 0.719588638589618\n",
      "F1 Score: 0.6736799706489262\n",
      "\n",
      "Classification Report on train data \n",
      "               precision    recall  f1-score   support\n",
      "\n",
      "           0       0.81      0.98      0.89     29028\n",
      "           1       0.89      0.44      0.59     11809\n",
      "\n",
      "    accuracy                           0.82     40837\n",
      "   macro avg       0.85      0.71      0.74     40837\n",
      "weighted avg       0.83      0.82      0.80     40837\n",
      "\n",
      "\n",
      "Classification Report on test data \n",
      "               precision    recall  f1-score   support\n",
      "\n",
      "           0       0.75      0.92      0.83      7308\n",
      "           1       0.52      0.20      0.29      2902\n",
      "\n",
      "    accuracy                           0.72     10210\n",
      "   macro avg       0.63      0.56      0.56     10210\n",
      "weighted avg       0.68      0.72      0.67     10210\n",
      "\n",
      "\n",
      "**************************************************\n"
     ]
    }
   ],
   "source": [
    "model_train_and_score(XGBClassifier(), X_train, y_train, X_test, y_test)"
   ]
  },
  {
   "cell_type": "markdown",
   "metadata": {
    "id": "zoESS58LbUio"
   },
   "source": [
    "**Extreme ML model**"
   ]
  },
  {
   "cell_type": "code",
   "execution_count": 67,
   "metadata": {
    "colab": {
     "base_uri": "https://localhost:8080/"
    },
    "id": "YI1lmEBlWLqb",
    "outputId": "1bd69cfa-43d5-43f7-e57c-bb92f7b7b6f7"
   },
   "outputs": [
    {
     "name": "stdout",
     "output_type": "stream",
     "text": [
      "**************************************************\n",
      "________GradientBoostingClassifier__________\n",
      "\n",
      "Accuracy: 0.7235063663075416\n",
      "Precision: 0.6965692681256326\n",
      "Recall: 0.7235063663075416\n",
      "F1 Score: 0.63410780062573\n",
      "\n",
      "Classification Report on train data \n",
      "               precision    recall  f1-score   support\n",
      "\n",
      "           0       0.72      0.99      0.84     29028\n",
      "           1       0.69      0.08      0.14     11809\n",
      "\n",
      "    accuracy                           0.72     40837\n",
      "   macro avg       0.71      0.53      0.49     40837\n",
      "weighted avg       0.72      0.72      0.64     40837\n",
      "\n",
      "\n",
      "Classification Report on test data \n",
      "               precision    recall  f1-score   support\n",
      "\n",
      "           0       0.73      0.98      0.84      7308\n",
      "           1       0.62      0.07      0.13      2902\n",
      "\n",
      "    accuracy                           0.72     10210\n",
      "   macro avg       0.67      0.53      0.48     10210\n",
      "weighted avg       0.70      0.72      0.63     10210\n",
      "\n",
      "\n",
      "**************************************************\n"
     ]
    }
   ],
   "source": [
    "model_train_and_score(GradientBoostingClassifier(), X_train, y_train, X_test, y_test)"
   ]
  },
  {
   "cell_type": "code",
   "execution_count": 68,
   "metadata": {},
   "outputs": [
    {
     "name": "stdout",
     "output_type": "stream",
     "text": [
      "**************************************************\n",
      "________AdaBoostClassifier__________\n",
      "\n",
      "Accuracy: 0.720666013712047\n",
      "Precision: 0.678045851313457\n",
      "Recall: 0.720666013712047\n",
      "F1 Score: 0.6444981617922055\n",
      "\n",
      "Classification Report on train data \n",
      "               precision    recall  f1-score   support\n",
      "\n",
      "           0       0.73      0.97      0.83     29028\n",
      "           1       0.56      0.11      0.18     11809\n",
      "\n",
      "    accuracy                           0.72     40837\n",
      "   macro avg       0.65      0.54      0.51     40837\n",
      "weighted avg       0.68      0.72      0.64     40837\n",
      "\n",
      "\n",
      "Classification Report on test data \n",
      "               precision    recall  f1-score   support\n",
      "\n",
      "           0       0.73      0.97      0.83      7308\n",
      "           1       0.55      0.10      0.17      2902\n",
      "\n",
      "    accuracy                           0.72     10210\n",
      "   macro avg       0.64      0.53      0.50     10210\n",
      "weighted avg       0.68      0.72      0.64     10210\n",
      "\n",
      "\n",
      "**************************************************\n"
     ]
    }
   ],
   "source": [
    "model_train_and_score(AdaBoostClassifier(), X_train, y_train, X_test, y_test)"
   ]
  },
  {
   "cell_type": "markdown",
   "metadata": {
    "id": "kIWIt7m9bsLB"
   },
   "source": [
    "**Ensemble model(Voting Classifier)**"
   ]
  },
  {
   "cell_type": "code",
   "execution_count": 69,
   "metadata": {
    "id": "BTRd_lH4eftb"
   },
   "outputs": [],
   "source": [
    "from sklearn.ensemble import VotingClassifier\n",
    "\n",
    "estimator = [('RF',RandomForestClassifier()),\n",
    "             ('GBC',GradientBoostingClassifier()),('Xgb',XGBClassifier())]"
   ]
  },
  {
   "cell_type": "code",
   "execution_count": 70,
   "metadata": {
    "colab": {
     "base_uri": "https://localhost:8080/"
    },
    "id": "ibxs3zIUfDe5",
    "outputId": "b3cbd500-187b-467c-becb-8dc45fe479d9"
   },
   "outputs": [
    {
     "name": "stdout",
     "output_type": "stream",
     "text": [
      "**************************************************\n",
      "________VotingClassifier__________\n",
      "\n",
      "Accuracy: 0.7256611165523996\n",
      "Precision: 0.6949451937742326\n",
      "Recall: 0.7256611165523996\n",
      "F1 Score: 0.6479868624555115\n",
      "\n",
      "Classification Report on train data \n",
      "               precision    recall  f1-score   support\n",
      "\n",
      "           0       0.86      1.00      0.92     29028\n",
      "           1       0.99      0.59      0.74     11809\n",
      "\n",
      "    accuracy                           0.88     40837\n",
      "   macro avg       0.93      0.80      0.83     40837\n",
      "weighted avg       0.90      0.88      0.87     40837\n",
      "\n",
      "\n",
      "Classification Report on test data \n",
      "               precision    recall  f1-score   support\n",
      "\n",
      "           0       0.73      0.97      0.84      7308\n",
      "           1       0.60      0.10      0.18      2902\n",
      "\n",
      "    accuracy                           0.73     10210\n",
      "   macro avg       0.67      0.54      0.51     10210\n",
      "weighted avg       0.69      0.73      0.65     10210\n",
      "\n",
      "\n",
      "**************************************************\n"
     ]
    }
   ],
   "source": [
    "vot = VotingClassifier(estimators=estimator,voting='soft')\n",
    "model_train_and_score(vot,X_train, y_train, X_test, y_test)"
   ]
  },
  {
   "cell_type": "markdown",
   "metadata": {
    "id": "PpiwZU_tb7tt"
   },
   "source": [
    "**Deep Learning model with 2 hidden layers**"
   ]
  },
  {
   "cell_type": "code",
   "execution_count": 71,
   "metadata": {
    "colab": {
     "base_uri": "https://localhost:8080/"
    },
    "id": "_4BcmhSn3Y_v",
    "outputId": "8defcde6-0968-44e4-cf26-d08ce990afeb"
   },
   "outputs": [
    {
     "name": "stdout",
     "output_type": "stream",
     "text": [
      "Epoch 1/5\n",
      "1277/1277 [==============================] - 1s 644us/step - loss: 0.6187 - accuracy: 0.7018\n",
      "Epoch 2/5\n",
      "1277/1277 [==============================] - 1s 653us/step - loss: 0.5858 - accuracy: 0.7114\n",
      "Epoch 3/5\n",
      "1277/1277 [==============================] - 1s 691us/step - loss: 0.5815 - accuracy: 0.7116\n",
      "Epoch 4/5\n",
      "1277/1277 [==============================] - 1s 647us/step - loss: 0.5775 - accuracy: 0.7129\n",
      "Epoch 5/5\n",
      "1277/1277 [==============================] - 1s 655us/step - loss: 0.5740 - accuracy: 0.7135\n"
     ]
    },
    {
     "data": {
      "text/plain": [
       "<keras.src.callbacks.History at 0x28e93e210>"
      ]
     },
     "execution_count": 71,
     "metadata": {},
     "output_type": "execute_result"
    }
   ],
   "source": [
    "ann4 = models.Sequential([\n",
    "    layers.Flatten(),\n",
    "\n",
    "    layers.Dense(128, activation='relu'),\n",
    "    layers.Dropout(0.2),\n",
    "    layers.Dense(128, activation='relu'),\n",
    "    layers.Dropout(0.2),\n",
    "\n",
    "    layers.Dense(10, activation='softmax')\n",
    "])\n",
    "\n",
    "ann4.compile(optimizer='adam',\n",
    "             loss='sparse_categorical_crossentropy',\n",
    "             metrics=['accuracy'])\n",
    "\n",
    "ann4.fit(X_train, y_train, epochs=5)"
   ]
  },
  {
   "cell_type": "code",
   "execution_count": 72,
   "metadata": {
    "colab": {
     "base_uri": "https://localhost:8080/"
    },
    "id": "XNNZCuv0YtBs",
    "outputId": "54ee71d3-5dca-45ff-a05b-7df96fc9d20e"
   },
   "outputs": [
    {
     "name": "stdout",
     "output_type": "stream",
     "text": [
      "Model: \"sequential_1\"\n",
      "_________________________________________________________________\n",
      " Layer (type)                Output Shape              Param #   \n",
      "=================================================================\n",
      " flatten_1 (Flatten)         (None, 68)                0         \n",
      "                                                                 \n",
      " dense_3 (Dense)             (None, 128)               8832      \n",
      "                                                                 \n",
      " dropout_2 (Dropout)         (None, 128)               0         \n",
      "                                                                 \n",
      " dense_4 (Dense)             (None, 128)               16512     \n",
      "                                                                 \n",
      " dropout_3 (Dropout)         (None, 128)               0         \n",
      "                                                                 \n",
      " dense_5 (Dense)             (None, 10)                1290      \n",
      "                                                                 \n",
      "=================================================================\n",
      "Total params: 26634 (104.04 KB)\n",
      "Trainable params: 26634 (104.04 KB)\n",
      "Non-trainable params: 0 (0.00 Byte)\n",
      "_________________________________________________________________\n"
     ]
    }
   ],
   "source": [
    "ann4.summary()"
   ]
  },
  {
   "cell_type": "code",
   "execution_count": 73,
   "metadata": {},
   "outputs": [
    {
     "name": "stdout",
     "output_type": "stream",
     "text": [
      "Epoch 1/10\n",
      "1277/1277 [==============================] - 1s 800us/step - loss: 0.5715 - accuracy: 0.7154 - val_loss: 0.5722 - val_accuracy: 0.7154\n",
      "Epoch 2/10\n",
      "1277/1277 [==============================] - 1s 751us/step - loss: 0.5676 - accuracy: 0.7160 - val_loss: 0.5714 - val_accuracy: 0.7169\n",
      "Epoch 3/10\n",
      "1277/1277 [==============================] - 1s 729us/step - loss: 0.5649 - accuracy: 0.7166 - val_loss: 0.5732 - val_accuracy: 0.7177\n",
      "Epoch 4/10\n",
      "1277/1277 [==============================] - 1s 741us/step - loss: 0.5616 - accuracy: 0.7194 - val_loss: 0.5688 - val_accuracy: 0.7185\n",
      "Epoch 5/10\n",
      "1277/1277 [==============================] - 1s 737us/step - loss: 0.5586 - accuracy: 0.7202 - val_loss: 0.5765 - val_accuracy: 0.7075\n",
      "Epoch 6/10\n",
      "1277/1277 [==============================] - 1s 773us/step - loss: 0.5567 - accuracy: 0.7224 - val_loss: 0.5733 - val_accuracy: 0.7164\n",
      "Epoch 7/10\n",
      "1277/1277 [==============================] - 1s 746us/step - loss: 0.5542 - accuracy: 0.7248 - val_loss: 0.5718 - val_accuracy: 0.7189\n",
      "Epoch 8/10\n",
      "1277/1277 [==============================] - 1s 764us/step - loss: 0.5509 - accuracy: 0.7244 - val_loss: 0.5741 - val_accuracy: 0.7157\n",
      "Epoch 9/10\n",
      "1277/1277 [==============================] - 1s 798us/step - loss: 0.5479 - accuracy: 0.7279 - val_loss: 0.5739 - val_accuracy: 0.7162\n",
      "Epoch 10/10\n",
      "1277/1277 [==============================] - 1s 738us/step - loss: 0.5451 - accuracy: 0.7296 - val_loss: 0.5734 - val_accuracy: 0.7147\n",
      "320/320 [==============================] - 0s 372us/step - loss: 0.5734 - accuracy: 0.7147\n",
      "Test Loss: 0.5733746886253357, Test Accuracy: 0.7146914601325989\n"
     ]
    }
   ],
   "source": [
    "ann4.fit(X_train, y_train, epochs=10, batch_size=32, validation_data=(X_test, y_test))\n",
    "\n",
    "# Evaluate the model on the test set\n",
    "loss, Ann_accuracy = ann4.evaluate(X_test, y_test)\n",
    "print(f\"Test Loss: {loss}, Test Accuracy: {Ann_accuracy}\")"
   ]
  },
  {
   "cell_type": "code",
   "execution_count": 74,
   "metadata": {},
   "outputs": [],
   "source": [
    "# Even the deep learning model with 2 hidden layers is giving is 72% accuracy."
   ]
  },
  {
   "cell_type": "markdown",
   "metadata": {
    "id": "6i2T_wJscEeJ"
   },
   "source": [
    "**Scorecard**"
   ]
  },
  {
   "cell_type": "code",
   "execution_count": 75,
   "metadata": {
    "id": "iqw_Inj5WLem"
   },
   "outputs": [],
   "source": [
    "scorecard=pd.DataFrame(columns=['Model','Precision','Recall','F1_score','Train_Accuracy','Test_Accuracy','Kappa_score','RMSE'])\n",
    "def model_accuracy(model_name,classifier,X_train,y_train,X_test,y_test):\n",
    "    \n",
    "    # traing data \n",
    "    model=classifier.fit(X_train,y_train)\n",
    "    y_train_pred=model.predict(X_train)\n",
    "    #testing data\n",
    "    y_test_pred=model.predict(X_test)\n",
    "    \n",
    "    Train_accuracy=model.score(X_train,y_train)\n",
    "    Test_accuracy=model.score(X_test,y_test)\n",
    "    \n",
    "    global scorecard\n",
    "    scorecard=scorecard.append({'Model':model_name\n",
    "                               ,'Precision':precision_score(y_test,y_test_pred, average = 'weighted')\n",
    "                               ,'Recall':recall_score(y_test,y_test_pred, average = 'weighted')\n",
    "                               ,'F1_score':f1_score(y_test,y_test_pred, average = 'weighted')\n",
    "                               ,'Train_Accuracy':Train_accuracy\n",
    "                               ,'Test_Accuracy':Test_accuracy\n",
    "                               ,'Kappa_score':cohen_kappa_score(y_test,y_test_pred),\n",
    "                               'RMSE':np.sqrt(mean_squared_error(y_test, y_test_pred))},ignore_index=True\n",
    "                              )"
   ]
  },
  {
   "cell_type": "code",
   "execution_count": 76,
   "metadata": {
    "id": "nkhaH5wneNdf"
   },
   "outputs": [],
   "source": [
    "model_accuracy('Random Forest', RandomForestClassifier(), X_train, y_train, X_test, y_test)"
   ]
  },
  {
   "cell_type": "code",
   "execution_count": 77,
   "metadata": {
    "id": "tv6NZmbncH90"
   },
   "outputs": [],
   "source": [
    "model_accuracy('Voting Classifier', vot, X_train, y_train, X_test, y_test)"
   ]
  },
  {
   "cell_type": "code",
   "execution_count": 78,
   "metadata": {},
   "outputs": [],
   "source": [
    "model_accuracy('Adaboost', AdaBoostClassifier(), X_train, y_train, X_test, y_test)"
   ]
  },
  {
   "cell_type": "code",
   "execution_count": 79,
   "metadata": {},
   "outputs": [],
   "source": [
    "model_accuracy('Gradient boost', GradientBoostingClassifier(), X_train, y_train, X_test, y_test)"
   ]
  },
  {
   "cell_type": "code",
   "execution_count": 80,
   "metadata": {},
   "outputs": [],
   "source": [
    "model_accuracy('Xgb', XGBClassifier(), X_train, y_train, X_test, y_test)"
   ]
  },
  {
   "cell_type": "code",
   "execution_count": 81,
   "metadata": {
    "colab": {
     "base_uri": "https://localhost:8080/",
     "height": 175
    },
    "id": "NAfcTKzjfI-1",
    "outputId": "1b5ce759-5c78-4607-e345-2459fd49c91c"
   },
   "outputs": [
    {
     "data": {
      "text/html": [
       "<div>\n",
       "<style scoped>\n",
       "    .dataframe tbody tr th:only-of-type {\n",
       "        vertical-align: middle;\n",
       "    }\n",
       "\n",
       "    .dataframe tbody tr th {\n",
       "        vertical-align: top;\n",
       "    }\n",
       "\n",
       "    .dataframe thead th {\n",
       "        text-align: right;\n",
       "    }\n",
       "</style>\n",
       "<table border=\"1\" class=\"dataframe\">\n",
       "  <thead>\n",
       "    <tr style=\"text-align: right;\">\n",
       "      <th></th>\n",
       "      <th>Model</th>\n",
       "      <th>Precision</th>\n",
       "      <th>Recall</th>\n",
       "      <th>F1_score</th>\n",
       "      <th>Train_Accuracy</th>\n",
       "      <th>Test_Accuracy</th>\n",
       "      <th>Kappa_score</th>\n",
       "      <th>RMSE</th>\n",
       "    </tr>\n",
       "  </thead>\n",
       "  <tbody>\n",
       "    <tr>\n",
       "      <th>0</th>\n",
       "      <td>Random Forest</td>\n",
       "      <td>0.693092</td>\n",
       "      <td>0.724094</td>\n",
       "      <td>0.640852</td>\n",
       "      <td>1.000000</td>\n",
       "      <td>0.724094</td>\n",
       "      <td>0.085969</td>\n",
       "      <td>0.525268</td>\n",
       "    </tr>\n",
       "    <tr>\n",
       "      <th>1</th>\n",
       "      <td>Voting Classifier</td>\n",
       "      <td>0.698095</td>\n",
       "      <td>0.726934</td>\n",
       "      <td>0.651029</td>\n",
       "      <td>0.881284</td>\n",
       "      <td>0.726934</td>\n",
       "      <td>0.108239</td>\n",
       "      <td>0.522557</td>\n",
       "    </tr>\n",
       "    <tr>\n",
       "      <th>2</th>\n",
       "      <td>Adaboost</td>\n",
       "      <td>0.678046</td>\n",
       "      <td>0.720666</td>\n",
       "      <td>0.644498</td>\n",
       "      <td>0.718001</td>\n",
       "      <td>0.720666</td>\n",
       "      <td>0.090781</td>\n",
       "      <td>0.528521</td>\n",
       "    </tr>\n",
       "    <tr>\n",
       "      <th>3</th>\n",
       "      <td>Gradient boost</td>\n",
       "      <td>0.696569</td>\n",
       "      <td>0.723506</td>\n",
       "      <td>0.634108</td>\n",
       "      <td>0.723780</td>\n",
       "      <td>0.723506</td>\n",
       "      <td>0.072594</td>\n",
       "      <td>0.525827</td>\n",
       "    </tr>\n",
       "    <tr>\n",
       "      <th>4</th>\n",
       "      <td>Xgb</td>\n",
       "      <td>0.680298</td>\n",
       "      <td>0.719589</td>\n",
       "      <td>0.673680</td>\n",
       "      <td>0.822245</td>\n",
       "      <td>0.719589</td>\n",
       "      <td>0.156763</td>\n",
       "      <td>0.529539</td>\n",
       "    </tr>\n",
       "  </tbody>\n",
       "</table>\n",
       "</div>"
      ],
      "text/plain": [
       "               Model  Precision    Recall  F1_score  Train_Accuracy  \\\n",
       "0      Random Forest   0.693092  0.724094  0.640852        1.000000   \n",
       "1  Voting Classifier   0.698095  0.726934  0.651029        0.881284   \n",
       "2           Adaboost   0.678046  0.720666  0.644498        0.718001   \n",
       "3     Gradient boost   0.696569  0.723506  0.634108        0.723780   \n",
       "4                Xgb   0.680298  0.719589  0.673680        0.822245   \n",
       "\n",
       "   Test_Accuracy  Kappa_score      RMSE  \n",
       "0       0.724094     0.085969  0.525268  \n",
       "1       0.726934     0.108239  0.522557  \n",
       "2       0.720666     0.090781  0.528521  \n",
       "3       0.723506     0.072594  0.525827  \n",
       "4       0.719589     0.156763  0.529539  "
      ]
     },
     "execution_count": 81,
     "metadata": {},
     "output_type": "execute_result"
    }
   ],
   "source": [
    "scorecard"
   ]
  },
  {
   "cell_type": "code",
   "execution_count": 82,
   "metadata": {
    "scrolled": false
   },
   "outputs": [
    {
     "data": {
      "image/png": "[encoded data removed]",
      "text/plain": [
       "<Figure size 1500x800 with 1 Axes>"
      ]
     },
     "metadata": {},
     "output_type": "display_data"
    },
    {
     "data": {
      "image/png": "[encoded data removed]",
      "text/plain": [
       "<Figure size 1500x800 with 1 Axes>"
      ]
     },
     "metadata": {},
     "output_type": "display_data"
    },
    {
     "data": {
      "image/png": "[encoded data removed]",
      "text/plain": [
       "<Figure size 1500x800 with 1 Axes>"
      ]
     },
     "metadata": {},
     "output_type": "display_data"
    },
    {
     "data": {
      "image/png": "[encoded data removed]",
      "text/plain": [
       "<Figure size 1500x800 with 1 Axes>"
      ]
     },
     "metadata": {},
     "output_type": "display_data"
    },
    {
     "data": {
      "image/png": "[encoded data removed]",
      "text/plain": [
       "<Figure size 1500x800 with 1 Axes>"
      ]
     },
     "metadata": {},
     "output_type": "display_data"
    },
    {
     "data": {
      "image/png": "[encoded data removed]",
      "text/plain": [
       "<Figure size 1500x800 with 1 Axes>"
      ]
     },
     "metadata": {},
     "output_type": "display_data"
    },
    {
     "data": {
      "image/png": "[encoded data removed]",
      "text/plain": [
       "<Figure size 1500x800 with 1 Axes>"
      ]
     },
     "metadata": {},
     "output_type": "display_data"
    }
   ],
   "source": [
    "for j in scorecard.columns[1:]:\n",
    "    plt.bar(scorecard['Model'], scorecard[j])\n",
    "    for i, value in enumerate(scorecard[j]):\n",
    "        plt.text(i, value, f'{value:.2f}%', ha='center', va='bottom')\n",
    "\n",
    "    plt.xticks(rotation=90)\n",
    "    plt.xlabel('Model', fontsize = 15)\n",
    "    plt.ylabel(j,fontsize = 15)\n",
    "    plt.title(j + ' Score Comparison', fontsize = 15)\n",
    "\n",
    "    plt.tight_layout()\n",
    "    plt.show()"
   ]
  },
  {
   "cell_type": "markdown",
   "metadata": {},
   "source": [
    "`Inference`:\n",
    "    \n",
    "   - From the above graphs, we can see there is a difference between train accuracies and also kappa score, remaining all the values having the same values. \n",
    "   - Mainly the accuracy and F1_score have has the same values for all the models."
   ]
  },
  {
   "cell_type": "markdown",
   "metadata": {},
   "source": [
    "### Bias Variance tradeoff"
   ]
  },
  {
   "cell_type": "code",
   "execution_count": 83,
   "metadata": {
    "id": "jvo3u4hza5eS"
   },
   "outputs": [],
   "source": [
    "models1 = []\n",
    "models1.append(('AdaBoost Classifier',AdaBoostClassifier()))\n",
    "models1.append(('GradientBoosting Classifier',GradientBoostingClassifier()))\n",
    "models1.append(('Voting Classifier',vot))\n",
    "models1.append(('XGB Classifier',XGBClassifier()))\n",
    "models1.append(('Random Forest',RandomForestClassifier()))"
   ]
  },
  {
   "cell_type": "code",
   "execution_count": 84,
   "metadata": {},
   "outputs": [
    {
     "name": "stdout",
     "output_type": "stream",
     "text": [
      "AdaBoost Classifier: Bias error: 0.361869 Variance error: (0.001331)\n",
      "GradientBoosting Classifier: Bias error: 0.370705 Variance error: (0.001848)\n",
      "Voting Classifier: Bias error: 0.355793 Variance error: (0.001133)\n",
      "XGB Classifier: Bias error: 0.332069 Variance error: (0.002129)\n",
      "Random Forest: Bias error: 0.368707 Variance error: (0.000888)\n"
     ]
    }
   ],
   "source": [
    "results = []\n",
    "names = []\n",
    "for name, model in models1:\n",
    "    kfold = KFold(shuffle=True,n_splits=3,random_state=10)\n",
    "    cv_results = cross_val_score(model, X_train, y_train, cv=kfold, scoring='f1_weighted')\n",
    "    results.append(cv_results)\n",
    "    names.append(name)\n",
    "    print(\"%s: Bias error: %f Variance error: (%f)\" % (name, 1-np.mean(cv_results),np.std(cv_results,ddof=1)))"
   ]
  },
  {
   "cell_type": "code",
   "execution_count": 85,
   "metadata": {},
   "outputs": [
    {
     "data": {
      "image/png": "[encoded data removed]",
      "text/plain": [
       "<Figure size 1500x800 with 1 Axes>"
      ]
     },
     "metadata": {},
     "output_type": "display_data"
    }
   ],
   "source": [
    "fig = plt.figure()\n",
    "fig.suptitle('Algorithm Comparison')\n",
    "ax = fig.add_subplot(111)\n",
    "plt.boxplot(results)\n",
    "ax.set_xticklabels(names)\n",
    "plt.show()"
   ]
  },
  {
   "cell_type": "markdown",
   "metadata": {},
   "source": [
    "`Inference`:\n",
    "    \n",
    "- XGBClassifier has the lowest bias error but little more variance error.\n",
    "- We have to comprimise bias or variance depending on the problem statement."
   ]
  },
  {
   "cell_type": "code",
   "execution_count": null,
   "metadata": {},
   "outputs": [],
   "source": []
  }
 ],
 "metadata": {
  "colab": {
   "provenance": []
  },
  "kernelspec": {
   "display_name": "Python 3 (ipykernel)",
   "language": "python",
   "name": "python3"
  },
  "language_info": {
   "codemirror_mode": {
    "name": "ipython",
    "version": 3
   },
   "file_extension": ".py",
   "mimetype": "text/x-python",
   "name": "python",
   "nbconvert_exporter": "python",
   "pygments_lexer": "ipython3",
   "version": "3.11.4"
  }
 },
 "nbformat": 4,
 "nbformat_minor": 1
}
